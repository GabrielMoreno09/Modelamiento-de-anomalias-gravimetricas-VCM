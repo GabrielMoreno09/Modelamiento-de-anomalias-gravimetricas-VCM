{
 "cells": [
  {
   "cell_type": "code",
   "execution_count": 10,
   "id": "b79f4c8c-d2e1-41cd-9b30-c4ac4599ce48",
   "metadata": {},
   "outputs": [],
   "source": [
    "import panel\n",
    "import gempy as gp\n",
    "# import gempy_viewer as gpv\n",
    "import pickle\n",
    "import vtk\n",
    "import rasterio\n",
    "import pyevtk\n",
    "from discretize import TensorMesh\n",
    "from discretize.utils import mkvc, active_from_xyz\n",
    "from scipy.interpolate import LinearNDInterpolator\n",
    "from SimPEG import maps\n",
    "from SimPEG.potential_fields import gravity\n",
    "from SimPEG import discretize\n",
    "from matplotlib.colors import LogNorm, SymLogNorm\n",
    "\n",
    "# from gempy.core.data import GeoModel\n",
    "from gempy.core.data import Grid\n",
    "# from gempy.core.data.grid_modules import RegularGrid\n",
    "# from PyQt6 import QtWidgets, QtGui\n",
    "\n",
    "import pandas as pd\n",
    "import numpy as np\n",
    "import matplotlib.pyplot as plt\n",
    "import matplotlib.image as mpimg\n",
    "import os, time\n",
    "import pyvista as pv\n",
    "from gempy_engine.core.data.stack_relation_type import StackRelationType\n",
    "\n",
    "\n",
    "import SimPEG as simpeg\n",
    "\n",
    "from pymatsolver import Solver\n",
    "\n",
    "np.random.seed(55500)"
   ]
  },
  {
   "cell_type": "code",
   "execution_count": 11,
   "id": "96fd61bc-1486-4a82-877d-fa001c44795c",
   "metadata": {},
   "outputs": [
    {
     "ename": "AttributeError",
     "evalue": "module 'gempy' has no attribute 'create_geomodel'",
     "output_type": "error",
     "traceback": [
      "\u001b[1;31m---------------------------------------------------------------------------\u001b[0m",
      "\u001b[1;31mAttributeError\u001b[0m                            Traceback (most recent call last)",
      "Cell \u001b[1;32mIn[11], line 1\u001b[0m\n\u001b[1;32m----> 1\u001b[0m geo_model: gp\u001b[38;5;241m.\u001b[39mdata\u001b[38;5;241m.\u001b[39mGeoModel \u001b[38;5;241m=\u001b[39m \u001b[43mgp\u001b[49m\u001b[38;5;241;43m.\u001b[39;49m\u001b[43mcreate_geomodel\u001b[49m(\n\u001b[0;32m      2\u001b[0m     project_name\u001b[38;5;241m=\u001b[39m\u001b[38;5;124m'\u001b[39m\u001b[38;5;124mModel1\u001b[39m\u001b[38;5;124m'\u001b[39m,\n\u001b[0;32m      3\u001b[0m     extent\u001b[38;5;241m=\u001b[39m[\u001b[38;5;241m853610.2891\u001b[39m, \u001b[38;5;241m855569.4948\u001b[39m, \n\u001b[0;32m      4\u001b[0m             \u001b[38;5;241m987530.5888\u001b[39m, \u001b[38;5;241m988620.4712\u001b[39m, \n\u001b[0;32m      5\u001b[0m             \u001b[38;5;241m-\u001b[39m\u001b[38;5;241m6600\u001b[39m, \u001b[38;5;241m3000\u001b[39m], \u001b[38;5;66;03m#x, y, z\u001b[39;00m\n\u001b[0;32m      6\u001b[0m     resolution\u001b[38;5;241m=\u001b[39m\u001b[38;5;28;01mNone\u001b[39;00m,\n\u001b[0;32m      7\u001b[0m     refinement\u001b[38;5;241m=\u001b[39m\u001b[38;5;241m4\u001b[39m, \u001b[38;5;66;03m# We will use octrees\u001b[39;00m\n\u001b[0;32m      8\u001b[0m     importer_helper\u001b[38;5;241m=\u001b[39m gp\u001b[38;5;241m.\u001b[39mdata\u001b[38;5;241m.\u001b[39mImporterHelper(\n\u001b[0;32m      9\u001b[0m         path_to_orientations\u001b[38;5;241m=\u001b[39m \u001b[38;5;124m\"\u001b[39m\u001b[38;5;124mcapas_model_orientaciones.csv\u001b[39m\u001b[38;5;124m\"\u001b[39m,\n\u001b[0;32m     10\u001b[0m         path_to_surface_points\u001b[38;5;241m=\u001b[39m \u001b[38;5;124m\"\u001b[39m\u001b[38;5;124mcapas_model_points.csv\u001b[39m\u001b[38;5;124m\"\u001b[39m,\n\u001b[0;32m     11\u001b[0m \n\u001b[0;32m     12\u001b[0m     )\n\u001b[0;32m     13\u001b[0m )\n",
      "\u001b[1;31mAttributeError\u001b[0m: module 'gempy' has no attribute 'create_geomodel'"
     ]
    }
   ],
   "source": [
    "geo_model: gp.data.GeoModel = gp.create_geomodel(\n",
    "    project_name='Model1',\n",
    "    extent=[853610.2891, 855569.4948, \n",
    "            987530.5888, 988620.4712, \n",
    "            -6600, 3000], #x, y, z\n",
    "    resolution=None,\n",
    "    refinement=4, # We will use octrees\n",
    "    importer_helper= gp.data.ImporterHelper(\n",
    "        path_to_orientations= \"capas_model_orientaciones.csv\",\n",
    "        path_to_surface_points= \"capas_model_points.csv\",\n",
    "\n",
    "    )\n",
    ")"
   ]
  },
  {
   "cell_type": "code",
   "execution_count": null,
   "id": "465557b8-4933-4920-8351-351c2965c7e6",
   "metadata": {},
   "outputs": [],
   "source": [
    "gp.map_stack_to_surfaces(\n",
    "    gempy_model=geo_model,\n",
    "    mapping_object=  # TODO: This mapping I do not like it too much. We should be able to do it passing the data objects directly\n",
    "    {\n",
    "        \"Strat_Series1\": ('Complejo_Dacitico'),     \n",
    "        \"Strat_Series2\": ('Cuerpo_Intrusivo'),\n",
    "        \"Strat_Series3\": ('Flujo_Piroclastico'),\n",
    "        \"Strat_Series4\": ('Sucesion_Piroclastica'),\n",
    "        \"Strat_Series5\": ('Sucesion_Volcanica')\n",
    "    }\n",
    ")\n",
    "geo_model.structural_frame  # Display the resulting structural frame\n"
   ]
  },
  {
   "cell_type": "code",
   "execution_count": null,
   "id": "d4d0ec57-870e-4120-8a31-1a4cc6a1d4c8",
   "metadata": {},
   "outputs": [],
   "source": [
    "plot = gpv.plot_2d(geo_model, show_lith=False, show_boundaries=False,)"
   ]
  },
  {
   "cell_type": "code",
   "execution_count": null,
   "id": "57eb1b15-b185-418c-8e09-763893d783c6",
   "metadata": {},
   "outputs": [],
   "source": [
    "gp.set_topography_from_file(\n",
    "    grid=geo_model.grid,\n",
    "    filepath=os.path.join(\"Volcan_CM2.tif\"),\n",
    ")\n",
    "\n",
    "gpv.plot_2d(geo_model, show_topography=True, section_names=['topography'], show_data=True)"
   ]
  },
  {
   "cell_type": "code",
   "execution_count": null,
   "id": "b7cb983e-a1d4-4516-b46a-e1eb031feab8",
   "metadata": {},
   "outputs": [],
   "source": [
    "geo_model.grid"
   ]
  },
  {
   "cell_type": "code",
   "execution_count": null,
   "id": "eda65811-b041-4296-a1d3-74408f1b04eb",
   "metadata": {},
   "outputs": [],
   "source": [
    "grid = Grid()"
   ]
  },
  {
   "cell_type": "code",
   "execution_count": null,
   "id": "8d549fb2-6fae-4d28-acba-b66f9cc1565f",
   "metadata": {},
   "outputs": [],
   "source": [
    "grav_res = 30 #Resolución(numero de puntos a lo largo del eje)\n",
    "X = np.linspace(853610.2891, 855569.4948, grav_res)\n",
    "Y = np.linspace(987530.5888, 988620.4712, grav_res)\n",
    "Z = 2300\n",
    "xyz = np.meshgrid(X, Y, Z)\n",
    "xy_ravel = np.vstack(list(map(np.ravel, xyz))).T #Se aplana la malla 3D a una matriz 2D, resultando en una lista de matrices \n",
    "                                                 # 1D aplanadas que se apilan para formar una única matriz 2D de 2 columnas (X,Y)\n",
    "xy_ravel"
   ]
  },
  {
   "cell_type": "code",
   "execution_count": null,
   "id": "ca5acec9-63e8-462d-88b4-00fae3952119",
   "metadata": {},
   "outputs": [],
   "source": [
    "gpv.plot_2d(geo_model, direction='z', show=True, topography=True)\n",
    "plt.scatter(xy_ravel[:, 0], xy_ravel[:, 1], s=2) #plotea las columnas X y Y del xy_ravel\n",
    "plt.show()"
   ]
  },
  {
   "cell_type": "code",
   "execution_count": null,
   "id": "0bbd1fd0-fe11-45d2-b825-e150d4825274",
   "metadata": {},
   "outputs": [],
   "source": [
    "gp.set_centered_grid(\n",
    "    grid=geo_model.grid,\n",
    "    centers=xy_ravel, #Define las coordenadas centrales de cada celda de la cuadrícula.\n",
    "    resolution=np.array([9, 9, 32]), #Define el tamaño (metros) de las celdas de la nueva malla.\n",
    "    radius=np.array([4500, 4500, 4500]) #Define el radio (metros) de influencia de cada celda.\n",
    ")"
   ]
  },
  {
   "cell_type": "code",
   "execution_count": 2,
   "id": "e7d1ccb4-c807-4c83-a2e3-e70c46c61ebe",
   "metadata": {},
   "outputs": [
    {
     "ename": "NameError",
     "evalue": "name 'geo_model' is not defined",
     "output_type": "error",
     "traceback": [
      "\u001b[1;31m---------------------------------------------------------------------------\u001b[0m",
      "\u001b[1;31mNameError\u001b[0m                                 Traceback (most recent call last)",
      "Cell \u001b[1;32mIn[2], line 1\u001b[0m\n\u001b[1;32m----> 1\u001b[0m \u001b[43mgeo_model\u001b[49m\u001b[38;5;241m.\u001b[39mgrid\u001b[38;5;241m.\u001b[39mcentered_grid\u001b[38;5;241m.\u001b[39mkernel_grid_centers   \u001b[38;5;66;03m#coordenadas centrales de las celdas en un tipo específico de cuadrícula\u001b[39;00m\n\u001b[0;32m      2\u001b[0m                                                    \u001b[38;5;66;03m#llamada \"cuadrícula centrada\". \u001b[39;00m\n",
      "\u001b[1;31mNameError\u001b[0m: name 'geo_model' is not defined"
     ]
    }
   ],
   "source": [
    "geo_model.grid.centered_grid.kernel_grid_centers   #coordenadas centrales de las celdas en un tipo específico de cuadrícula\n",
    "                                                   #llamada \"cuadrícula centrada\". "
   ]
  },
  {
   "cell_type": "code",
   "execution_count": null,
   "id": "b7bb1499-6880-4f11-ade1-032547c00d2b",
   "metadata": {},
   "outputs": [],
   "source": [
    "gravity_gradient = gp.calculate_gravity_gradient(geo_model.grid.centered_grid) #Opera para calcular el tensor del gradiente de \n",
    "                                                                               #gravedad en Gempy\n",
    "gravity_gradient"
   ]
  },
  {
   "cell_type": "code",
   "execution_count": null,
   "id": "4815e83f-d14c-414a-96fc-dea01db1fe0d",
   "metadata": {},
   "outputs": [],
   "source": [
    "geo_model.geophysics_input = gp.data.GeophysicsInput(\n",
    "    tz=gravity_gradient,\n",
    "    densities=np.array([-0.2, 0, 0.1, 0.2, 0.3, 0.5]),\n",
    ")"
   ]
  },
  {
   "cell_type": "code",
   "execution_count": null,
   "id": "e1de608e-c5d4-4b2e-8b11-c6d5c7f8f1fb",
   "metadata": {},
   "outputs": [],
   "source": [
    "geo_model.interpolation_options.mesh_extraction = True\n",
    "sol = gp.compute_model(\n",
    "    gempy_model=geo_model,\n",
    "    engine_config=gp.data.GemPyEngineConfig(\n",
    "        backend=gp.data.AvailableBackends.numpy,\n",
    "        dtype='float32'\n",
    "    )\n",
    ")\n",
    "\n",
    "grav = sol.gravity"
   ]
  },
  {
   "cell_type": "code",
   "execution_count": null,
   "id": "e8419ee3-199d-419d-8c12-1dca1ce218ed",
   "metadata": {},
   "outputs": [],
   "source": [
    "gpv.plot_2d(geo_model, \n",
    "            cell_number=['mid'],\n",
    "            direction='x',\n",
    "            show_topography=True, \n",
    "            figsize=(12, 17), \n",
    "            show_block=False, \n",
    "            show_values=False, \n",
    "            n_axis=2, \n",
    "            legend=True,\n",
    "            show_data=False, \n",
    "            ve=0.10))"
   ]
  },
  {
   "cell_type": "code",
   "execution_count": null,
   "id": "bce75fac-3655-4329-a7c1-88abc56f9cdc",
   "metadata": {},
   "outputs": [],
   "source": [
    "gpv.plot_2d(geo_model, cell_number=[-1], direction=['z'], show=True, show_results=False, show_data=False, legend=False, topography=True,\n",
    "            kwargs_regular_grid={'alpha': .5})\n",
    "\n",
    "plt.scatter(xy_ravel[:, 0], xy_ravel[:, 1], s=1)\n",
    "plt.imshow(grav.reshape(grav_res, grav_res),\n",
    "           extent=(xy_ravel[:, 0].min() + (xy_ravel[0, 0] - xy_ravel[1, 0]) / 2,\n",
    "                   xy_ravel[:, 0].max() - (xy_ravel[0, 0] - xy_ravel[1, 0]) / 2,\n",
    "                   xy_ravel[:, 1].min() + (xy_ravel[0, 1] - xy_ravel[30, 1]) / 2,\n",
    "                   xy_ravel[:, 1].max() - (xy_ravel[0, 1] - xy_ravel[30, 1]) / 2),\n",
    "           cmap='viridis_r', origin='lower', alpha=.8)\n",
    "cbar = plt.colorbar()\n",
    "cbar.set_label(r'$\\mu$gal')\n",
    "plt.show()\n",
    "\n",
    "# sphinx_gallery_thumbnail_number = -2"
   ]
  },
  {
   "cell_type": "code",
   "execution_count": null,
   "id": "3790e44d-a2ab-436e-b77c-9aa44e5ff011",
   "metadata": {},
   "outputs": [],
   "source": []
  },
  {
   "cell_type": "code",
   "execution_count": null,
   "id": "a2e4f9fb-c2d4-4771-95d3-09af49662474",
   "metadata": {},
   "outputs": [],
   "source": [
    "dx = 35\n",
    "ncx = 40\n",
    "dy = 40\n",
    "ncy = 10\n",
    "dz = 200\n",
    "ncz = 40\n",
    "dpadh = 3.5\n",
    "exp_h = 1.5\n",
    "\n",
    "hx = [(dx, dpadh, -exp_h), (dx, ncx), (dx, dpadh, exp_h)]\n",
    "hy = [(dy, dpadh, -exp_h), (dy, ncy), (dy, dpadh, exp_h)]\n",
    "hz = [(dz, 3, -exp_h), (dz, ncz)]\n",
    "mesh = TensorMesh([hx, hy, hz], x0=[853614,987543,-6000])\n",
    "mesh.plot_grid(color=\"midnightblue\", linewidth=0.1)"
   ]
  },
  {
   "cell_type": "code",
   "execution_count": null,
   "id": "f93ee928-7b93-4ff0-bee1-90b1f881681b",
   "metadata": {},
   "outputs": [],
   "source": [
    "# mesh.plot_grid"
   ]
  }
 ],
 "metadata": {
  "kernelspec": {
   "display_name": "Python 3 (ipykernel)",
   "language": "python",
   "name": "python3"
  },
  "language_info": {
   "codemirror_mode": {
    "name": "ipython",
    "version": 3
   },
   "file_extension": ".py",
   "mimetype": "text/x-python",
   "name": "python",
   "nbconvert_exporter": "python",
   "pygments_lexer": "ipython3",
   "version": "3.10.0"
  }
 },
 "nbformat": 4,
 "nbformat_minor": 5
}
